{
 "cells": [
  {
   "cell_type": "code",
   "execution_count": 1,
   "metadata": {},
   "outputs": [
    {
     "name": "stdout",
     "output_type": "stream",
     "text": [
      "cp: /usr/local/mongodb/bin/bsondump: Permission denied\n",
      "cp: /usr/local/mongodb/bin/mongodump: Permission denied\n",
      "cp: /usr/local/mongodb/bin/mongoexport: Permission denied\n",
      "cp: /usr/local/mongodb/bin/mongofiles: Permission denied\n",
      "cp: /usr/local/mongodb/bin/mongoimport: Permission denied\n",
      "cp: /usr/local/mongodb/bin/mongorestore: Permission denied\n",
      "cp: /usr/local/mongodb/bin/mongostat: Permission denied\n",
      "cp: /usr/local/mongodb/bin/mongotop: Permission denied\n"
     ]
    }
   ],
   "source": [
    "cp /usr/local/Cellar/mongodb-database-tools/100.6.1/bin/* /usr/local/mongodb/bin "
   ]
  },
  {
   "cell_type": "code",
   "execution_count": 2,
   "metadata": {},
   "outputs": [
    {
     "ename": "IndentationError",
     "evalue": "expected an indented block (2346059005.py, line 91)",
     "output_type": "error",
     "traceback": [
      "\u001b[0;36m  File \u001b[0;32m\"/var/folders/x7/bmqxr1zd3lxd_kcxxw9physr0000gn/T/ipykernel_13257/2346059005.py\"\u001b[0;36m, line \u001b[0;32m91\u001b[0m\n\u001b[0;31m    def supprimer(self,clef):\u001b[0m\n\u001b[0m                             ^\u001b[0m\n\u001b[0;31mIndentationError\u001b[0m\u001b[0;31m:\u001b[0m expected an indented block\n"
     ]
    }
   ],
   "source": [
    "# Stockage des indexes avec un arbre b+\n",
    "def recherche(index_rech, dossier=\"./indexes\", fich='racine'):\n",
    "  with open(f\"{dossier}/{fich}\", \"r\") as p:\n",
    "    nclefs = int(p[0])\n",
    "    parent = p[1].split(',')[0]\n",
    "    nfils = int(p[2])\n",
    "    deb = 3\n",
    "    clefs = p[deb:deb+nclefs]\n",
    "    fils = p[deb+nclefs:]\n",
    "\n",
    "    # lecture et recherche dans les clefs\n",
    "    i = 0\n",
    "    while i < nclefs and index_rech > clefs[i].split(',')[0]:\n",
    "      i += 1\n",
    "    # index, numero de la page et rowid ou se trouve les données(la ligne)\n",
    "    ind, num_page, pos = clefs[i].split(',')\n",
    "    if ind == index_rech: # recherche dans les clefs\n",
    "      return num_page,pos\n",
    "    \n",
    "    if nfils == 0: # si noeud feuille\n",
    "      return False  # index non existant\n",
    "      # clefs.append((ind, num_page, pos))\n",
    "\n",
    "    # recherche recursive dans un fils\n",
    "    if i == nclefs and index_rech >  p[deb+nclefs-1].split('')[0] :\n",
    "      # dernier fils\n",
    "      fich = fils[nclefs].split(',')[0]\n",
    "    else:\n",
    "      fich = fils[i].split(',')[0]\n",
    "  return recherche(index_rech, dossier, fich)\n",
    "    \n",
    "def inserer(self,clef,num_page,rowid,dossier=\"./indexes\"):\n",
    "  \"\"\" Insertion(ajout d'une clef avec son rowid) de ArbreB\n",
    "    Argument:\n",
    "        - clef (int|string) : index à insérer\n",
    "        - rowid (int) : rowid correspondnt à la clef\n",
    "  \"\"\"\n",
    "  #\n",
    "  fich = 'racine'\n",
    "  if not os.path.exists(f\"{self.dossier}/{fich}\"):\n",
    "    nclefs = 1\n",
    "    parent = 'noparent'\n",
    "    nfils = 0\n",
    "    clefs = [(clef + ',' + num_page + ',' + rowid, ',')]\n",
    "    fils = []\n",
    "    \n",
    "    # ouvrir et ecrire dans le fichier\n",
    "    \n",
    "    return True\n",
    "  \n",
    "  nfils = 1 # pour passer la premiere fois la boucle\n",
    "  \n",
    "  # phase de descente\n",
    "  while nfils > 0: # inserer dans une feuille\n",
    "    with open(f\"{self.dossier}/{fich}\", \"r\") as p:\n",
    "      nclefs = int(p[0])\n",
    "      parent = p[1].split(',')[0]\n",
    "      nfils = int(p[2]) # 0 pour les feuilles\n",
    "      deb = 3\n",
    "      clefs = p[deb:deb+nclefs]\n",
    "      fils = p[deb+nclefs:]\n",
    "\n",
    "      if nfils == 0: # feuille\n",
    "        i = 0\n",
    "        while i < nclefs and clef > clefs[i].split(',')[0]:\n",
    "          i += 1\n",
    "        if i == nclefs:\n",
    "          clefs.append((clef + ',' + num_page + ',' + rowid, ','))\n",
    "        else:\n",
    "          clefs = clefs[:i-1] + [(clef + ',' + num_page + ',' + rowid)] + clefs[i:]\n",
    "        nclefs += 1\n",
    "      else :\n",
    "        #\n",
    "        if i == nclefs and clef >  clefs[nclefs-1].split(',')[0] :\n",
    "          # dernier fils\n",
    "          fich = fils[nclefs].split(',')[0]\n",
    "        else:\n",
    "          fich = fils[i].split(',')[0]\n",
    "  \n",
    "  # phase de remonter pour balancer, équilibrage\n",
    "  while nclefs > 500 :\n",
    "    im,ifm = nclefs//2, nfils//2 # indice du milieur\n",
    "    g_clefs,m,d_clefs = clefs[:im],clefs[im],clefs[1+im:]\n",
    "    g_nclefs,d_nclefs = len(g_clefs),len(d_clefs)\n",
    "    g_fils,d_fils = fils[:ifm],fils[ifm:]\n",
    "    g_nfils,d_nfils = len(g_fils),len(d_fils)\n",
    "    g_fich,d_fich = '-'.join(g_clefs[0]), '-'.join(d_clefs[0])\n",
    "    \n",
    "    if parent == 'noparent' : # la racine\n",
    "\n",
    "def supprimer(self,clef):\n",
    "  \"\"\" Suppression d'une clef avec son rowid) de ArbreB\n",
    "    Argument:\n",
    "        - clef (int|string) : index à insérer\n",
    "    Retour:\n",
    "      retourne False si la clef est non présente\n",
    "  \"\"\"\n",
    "  #\n",
    "          "
   ]
  }
 ],
 "metadata": {
  "kernelspec": {
   "display_name": "base",
   "language": "python",
   "name": "python3"
  },
  "language_info": {
   "codemirror_mode": {
    "name": "ipython",
    "version": 3
   },
   "file_extension": ".py",
   "mimetype": "text/x-python",
   "name": "python",
   "nbconvert_exporter": "python",
   "pygments_lexer": "ipython3",
   "version": "3.9.7"
  },
  "orig_nbformat": 4,
  "vscode": {
   "interpreter": {
    "hash": "0f38275fe324cff011bf64454bf1337fa3433494d141d84f634fc0b52ac52478"
   }
  }
 },
 "nbformat": 4,
 "nbformat_minor": 2
}
